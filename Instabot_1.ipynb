{
 "cells": [
  {
   "cell_type": "code",
   "execution_count": null,
   "metadata": {},
   "outputs": [],
   "source": [
    "def message():\n",
    "    follow_list = []\n",
    "    follow_list_1 = []\n",
    "    i = []\n",
    "    following = bot.get_user_followers(\"siddhuchunduri\")\n",
    "    for followers in following:\n",
    "        follow_list.append(followers)\n",
    "    print(\"timer started\")\n",
    "    time.sleep(50)\n",
    "    following_1 = bot.get_user_followers(\"siddhuchunduri\")\n",
    "    print(\"timer ended\")\n",
    "    for followers in following_1:\n",
    "        follow_list_1.append(followers)\n",
    "    difference = [name for name in following_1 if name not in following]\n",
    "    for names in difference:  \n",
    "        i.append(bot.get_username_from_user_id(names))\n",
    "    print(i)\n",
    "    for names in i:\n",
    "        print(\"Sending message to\",names)\n",
    "        bot.send_message(\"thank you for following -  From Siddhu Insta bot\",names)  \n",
    "        now = datetime.now()\n",
    "        current_time = now.strftime(\"%H:%M:%S\")\n",
    "        print(\"Message sent to\",names,\"at time\",current_time)\n",
    "    \n",
    "def instabot():\n",
    "    bot.login(username=\"siddhuchunduri\",password=\"plm123456789)(*\")\n",
    "    n = 100\n",
    "    for i in range(n):\n",
    "        message()\n",
    "\n",
    "        \n",
    "import os\n",
    "import time\n",
    "from datetime import datetime\n",
    "from instabot import Bot\n",
    "bot = Bot()\n",
    "path = '/Users/chund/instagram/config/siddhuchunduri_uuid_and_cookie.json'\n",
    "if os.path.exists(path):\n",
    "    os.remove(path)\n",
    "    instabot()\n",
    "else:\n",
    "    instabot()\n"
   ]
  },
  {
   "cell_type": "code",
   "execution_count": null,
   "metadata": {},
   "outputs": [],
   "source": []
  }
 ],
 "metadata": {
  "kernelspec": {
   "display_name": "Python 3",
   "language": "python",
   "name": "python3"
  },
  "language_info": {
   "codemirror_mode": {
    "name": "ipython",
    "version": 3
   },
   "file_extension": ".py",
   "mimetype": "text/x-python",
   "name": "python",
   "nbconvert_exporter": "python",
   "pygments_lexer": "ipython3",
   "version": "3.8.5"
  }
 },
 "nbformat": 4,
 "nbformat_minor": 4
}
